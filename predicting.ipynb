{
 "cells": [
  {
   "cell_type": "markdown",
   "id": "3b52ef25",
   "metadata": {},
   "source": [
    "# Predict for one sentence"
   ]
  },
  {
   "cell_type": "code",
   "execution_count": null,
   "id": "bbfd6bf9",
   "metadata": {},
   "outputs": [],
   "source": [
    "from transformers import pipeline, AutoModelForTokenClassification, AutoTokenizer\n",
    "\n",
    "language = \"fr\"\n",
    "\n",
    "model = AutoModelForTokenClassification.from_pretrained(\"models/hidden_vs_public_fr\")\n",
    "tokenizer = AutoTokenizer.from_pretrained(\"models/hidden_vs_public_fr\")\n",
    "tokenizer.add_tokens([\"[PERS]\"])"
   ]
  },
  {
   "cell_type": "code",
   "execution_count": null,
   "id": "94081d40",
   "metadata": {},
   "outputs": [],
   "source": [
    "def get_labels(output):\n",
    "    list_entities = []\n",
    "    dict_labels = {\"LABEL_0\": \"O\",\n",
    "                   \"LABEL_1\": \"B-PUBLIC\",\n",
    "                   \"LABEL_2\": \"I-PUBLIC\",\n",
    "                   \"LABEL_3\": \"B-HIDDEN\",\n",
    "                   \"LABEL_4\": \"I-HIDDEN\",\n",
    "                  }\n",
    "    for entity_group in output:\n",
    "        if entity_group[\"word\"] == \"[PERS]\":\n",
    "            list_entities.append(dict_labels[entity_group[\"entity_group\"]])\n",
    "    return list_entities"
   ]
  },
  {
   "cell_type": "code",
   "execution_count": null,
   "id": "8b016f18",
   "metadata": {},
   "outputs": [],
   "source": [
    "ner_pipeline = pipeline(\"ner\", model=model, tokenizer=tokenizer, aggregation_strategy=\"simple\")"
   ]
  },
  {
   "cell_type": "code",
   "execution_count": null,
   "id": "3497f8e5",
   "metadata": {},
   "outputs": [],
   "source": [
    "output = ner_pipeline(\"Le président [PERS] a été invité à la conference de Paris.\")\n",
    "get_labels(output)"
   ]
  },
  {
   "cell_type": "code",
   "execution_count": null,
   "id": "b64031aa",
   "metadata": {},
   "outputs": [],
   "source": [
    "output = ner_pipeline(\"[PERS] [PERS], menuisier, 37 ans, a été cambriolé.\")\n",
    "get_labels(output)"
   ]
  },
  {
   "cell_type": "code",
   "execution_count": null,
   "id": "2afea73b",
   "metadata": {},
   "outputs": [],
   "source": [
    "output = ner_pipeline(\"Le président [PERS] a assisté à la conférence à Paris.\")\n",
    "get_labels(output)"
   ]
  },
  {
   "cell_type": "code",
   "execution_count": null,
   "id": "bff45c47",
   "metadata": {},
   "outputs": [],
   "source": [
    "output = ner_pipeline(\"[PERS] [PERS], 37 ans, a été poignardé alors qu'il se rendait à l'opéra.\")\n",
    "# output = ner_pipeline(\"Le [PERS] [PERS] a utilisé l'occassion pour insister sur la securité publique à la chambre des députés.\")\n",
    "get_labels(output)"
   ]
  },
  {
   "cell_type": "code",
   "execution_count": null,
   "id": "cabab03e",
   "metadata": {},
   "outputs": [],
   "source": [
    "output = ner_pipeline(\"Mr. [PERS] est le cousin du menuisier.\")\n",
    "get_labels(output)"
   ]
  },
  {
   "cell_type": "code",
   "execution_count": null,
   "id": "3e4bda23",
   "metadata": {},
   "outputs": [],
   "source": [
    "output = ner_pipeline(\"[PERS], de la Côte-aux-Fées, fusilier dans la compagnie Germann, et [PERS], fusilier, natif de Neuchâtel ; sont prévenus que s’ils estiment pouvoir prétendre une part aux susdits dons, ils doivent adresser le plutôt possible à la Chancellerie soussignée, les certificats qui constatent les blessures qu’ils ont reçues et les droits qu’ils ont de participer à ces dons, afin que ces pièces puissent être envoyées avant le 15 juillet au comité prémentionné siégant à Berne.\")\n",
    "get_labels(output)"
   ]
  },
  {
   "cell_type": "code",
   "execution_count": null,
   "id": "96e0eae2",
   "metadata": {},
   "outputs": [],
   "source": [
    "output = ner_pipeline(\"Le roi, la reine, le prince héritier, la princesse Louise, le prince Waldemar et sa femme se sont rendus d’hui à bord du vapeur Tantallon-Castle, qui est ancré dans le port de Copenhague, pour rendre visite à [PERS].\")\n",
    "get_labels(output)"
   ]
  },
  {
   "cell_type": "code",
   "execution_count": null,
   "id": "bf91cf92",
   "metadata": {},
   "outputs": [],
   "source": [
    "output = ner_pipeline(\"[PERS], ministre d’Etat belge et chef de la vieille-droite, dont nous avons annoncé le décès à l’âge de 86 ans, était une personnalité de premier plan.\")\n",
    "get_labels(output)"
   ]
  },
  {
   "cell_type": "code",
   "execution_count": null,
   "id": "a25f1d1f",
   "metadata": {},
   "outputs": [],
   "source": [
    "output = ner_pipeline(\"[PERS], chef de la vieille-droite, dont nous avons annoncé le décès à l’âge de 86 ans, était une personnalité de premier plan.\")\n",
    "get_labels(output)"
   ]
  },
  {
   "cell_type": "code",
   "execution_count": null,
   "id": "2773b83a",
   "metadata": {},
   "outputs": [],
   "source": [
    "output = ner_pipeline(\"Dans le conflit qui a éclaté entre [PERS] et [PERS], celui-ci a vraiment abusé de sa position.\")\n",
    "get_labels(output)"
   ]
  },
  {
   "cell_type": "code",
   "execution_count": null,
   "id": "9071db3b",
   "metadata": {},
   "outputs": [],
   "source": [
    "output = ner_pipeline(\"Monsieur et Madame [PERS] [PERS] et leur fils [PERS]\")\n",
    "get_labels(output)"
   ]
  },
  {
   "cell_type": "code",
   "execution_count": null,
   "id": "e0f57119",
   "metadata": {},
   "outputs": [],
   "source": [
    "output = ner_pipeline(\"Le télégraphe nons apportait lundi malin czar, Alexandre III, a été clamé immédiatement ; c’est le second fils d [PERS] [PERS]\")\n",
    "get_labels(output)"
   ]
  },
  {
   "cell_type": "code",
   "execution_count": null,
   "id": "2cd6cf0d",
   "metadata": {},
   "outputs": [],
   "source": [
    "output = ner_pipeline(\"M. [PERS] [PERS], mineur, habitant Garnich, a été happé par un convoi de wagonnets Rodange. Le président [PERS] [PERS] a assisté aux funérailles du mineur.\")\n",
    "get_labels(output)     "
   ]
  },
  {
   "cell_type": "code",
   "execution_count": null,
   "id": "3a445a62",
   "metadata": {},
   "outputs": [],
   "source": [
    "output = ner_pipeline(\"Le Président [PERS] [PERS] a assisté aux funérailles  de M. [PERS] [PERS], mineur, habitant Garnich, a été happé par un convoi de wagonnets Rodange.\")\n",
    "get_labels(output)"
   ]
  },
  {
   "cell_type": "markdown",
   "id": "60041fdd",
   "metadata": {},
   "source": [
    "# On sentences from the BNL"
   ]
  },
  {
   "cell_type": "code",
   "execution_count": null,
   "id": "c8990a9f",
   "metadata": {},
   "outputs": [],
   "source": [
    "from transformers import pipeline, AutoModelForTokenClassification, AutoTokenizer\n",
    "\n",
    "language = \"fr\"\n",
    "\n",
    "model_person = AutoModelForTokenClassification.from_pretrained(\"models/person_fr\")\n",
    "tokenizer_person = AutoTokenizer.from_pretrained(\"models/person_fr\")\n",
    "pipeline_person = pipeline(\"ner\",\n",
    "                           model=model_person,\n",
    "                           tokenizer=tokenizer_person,\n",
    "                           aggregation_strategy=\"simple\")\n",
    "\n",
    "model_hidden_vs_public = AutoModelForTokenClassification.from_pretrained(\"models/hidden_vs_public_fr\")\n",
    "tokenizer_hidden_vs_public = AutoTokenizer.from_pretrained(\"models/hidden_vs_public_fr\")\n",
    "tokenizer_hidden_vs_public.add_tokens([\"[PERS]\"])\n",
    "pipeline_hidden_vs_public = pipeline(\"ner\",\n",
    "                           model=model_hidden_vs_public,\n",
    "                           tokenizer=tokenizer_hidden_vs_public,\n",
    "                           aggregation_strategy=\"simple\")"
   ]
  },
  {
   "cell_type": "code",
   "execution_count": null,
   "id": "b5c4c33d",
   "metadata": {},
   "outputs": [],
   "source": [
    "def get_labels(output):\n",
    "    list_entities = []\n",
    "    dict_labels = {\"LABEL_0\": \"O\",\n",
    "                   \"LABEL_1\": \"B-PUBLIC\",\n",
    "                   \"LABEL_2\": \"I-PUBLIC\",\n",
    "                   \"LABEL_3\": \"B-HIDDEN\",\n",
    "                   \"LABEL_4\": \"I-HIDDEN\",\n",
    "                  }\n",
    "    for entity_group in output:\n",
    "        if entity_group[\"word\"] == \"[PERS]\":\n",
    "            list_entities.append(dict_labels[entity_group[\"entity_group\"]])\n",
    "    return list_entities"
   ]
  },
  {
   "cell_type": "code",
   "execution_count": null,
   "id": "31e4ac6b",
   "metadata": {},
   "outputs": [],
   "source": [
    "from ast import literal_eval\n",
    "from tqdm import tqdm\n",
    "\n",
    "fname = \"sentences-indeplux-1928-01-01\"\n",
    "with open(\"indep/\" + fname + \".jsonl\") as fr:\n",
    "    lines = fr.readlines()\n",
    "    \n",
    "pers_sentences = dict()\n",
    "for line in tqdm(lines):\n",
    "    line = literal_eval(line)\n",
    "    sentence = line[\"text\"]\n",
    "    sentence_id = line[\"id\"]\n",
    "    list_entities = []\n",
    "    detected_entities = pipeline_person(line[\"text\"])\n",
    "    for entity in reversed(detected_entities):\n",
    "        if entity[\"entity_group\"] in [\"LABEL_1\", \"LABEL_2\"] and entity[\"score\"] > 0.95:\n",
    "            sentence = sentence[:entity[\"start\"]] + \"👀\" + sentence[entity[\"end\"] + 1:]\n",
    "            list_entities.append((entity[\"start\"], entity[\"end\"]))\n",
    "    list_entities = list(reversed(list_entities))\n",
    "    sentence = sentence.replace(\"👀\", \"[PERS] \")\n",
    "    if \"[PERS]\" in sentence:\n",
    "        pers_sentences[sentence_id] = {\"sentence\": sentence,\n",
    "                                       \"original_sentence\": line[\"text\"],\n",
    "                                       \"entities\": list_entities}"
   ]
  },
  {
   "cell_type": "code",
   "execution_count": null,
   "id": "bb0433c7",
   "metadata": {},
   "outputs": [],
   "source": [
    "d_processed = []\n",
    "for pers_sent in pers_sentences:\n",
    "    sentence = pers_sentences[pers_sent][\"sentence\"]\n",
    "    entities = pers_sentences[pers_sent][\"entities\"]\n",
    "    processed_sentence = pipeline_hidden_vs_public(sentence)\n",
    "    labels = get_labels(processed_sentence)\n",
    "    if len(entities) == len(labels):\n",
    "        d_processed.append({\"id\": pers_sent,\n",
    "                            \"text\": pers_sentences[pers_sent][\"original_sentence\"],\n",
    "                            \"pos\": entities,\n",
    "                            \"tags\": labels})"
   ]
  },
  {
   "cell_type": "code",
   "execution_count": null,
   "id": "c171fa63",
   "metadata": {},
   "outputs": [],
   "source": [
    "with open('indep/output_' + fname + '.jsonl', 'w') as writer:\n",
    "    for l in d_processed:\n",
    "        writer.write(str(l) + \"\\n\")"
   ]
  },
  {
   "cell_type": "code",
   "execution_count": null,
   "id": "505a3400",
   "metadata": {},
   "outputs": [],
   "source": []
  },
  {
   "cell_type": "code",
   "execution_count": null,
   "id": "29297782",
   "metadata": {},
   "outputs": [],
   "source": []
  }
 ],
 "metadata": {
  "kernelspec": {
   "display_name": "Python (py39)",
   "language": "python",
   "name": "py39"
  },
  "language_info": {
   "codemirror_mode": {
    "name": "ipython",
    "version": 3
   },
   "file_extension": ".py",
   "mimetype": "text/x-python",
   "name": "python",
   "nbconvert_exporter": "python",
   "pygments_lexer": "ipython3",
   "version": "3.9.12"
  }
 },
 "nbformat": 4,
 "nbformat_minor": 5
}
